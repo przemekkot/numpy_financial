{
 "metadata": {
  "language_info": {
   "codemirror_mode": {
    "name": "ipython",
    "version": 3
   },
   "file_extension": ".py",
   "mimetype": "text/x-python",
   "name": "python",
   "nbconvert_exporter": "python",
   "pygments_lexer": "ipython3",
   "version": "3.8.3-final"
  },
  "orig_nbformat": 2,
  "kernelspec": {
   "name": "python3",
   "display_name": "Python 3"
  }
 },
 "nbformat": 4,
 "nbformat_minor": 2,
 "cells": [
  {
   "cell_type": "code",
   "execution_count": 3,
   "metadata": {},
   "outputs": [
    {
     "output_type": "execute_result",
     "data": {
      "text/plain": [
       "0.01"
      ]
     },
     "metadata": {},
     "execution_count": 3
    }
   ],
   "source": [
    "freq = 12\n",
    "rate = 0.12\n",
    "years = 5\n",
    "monthly = 2000\n",
    "\n",
    "rate /= freq\n",
    "rate "
   ]
  },
  {
   "cell_type": "code",
   "execution_count": 4,
   "metadata": {},
   "outputs": [
    {
     "output_type": "execute_result",
     "data": {
      "text/plain": [
       "60"
      ]
     },
     "metadata": {},
     "execution_count": 4
    }
   ],
   "source": [
    "nper = years * freq \n",
    "nper"
   ]
  },
  {
   "cell_type": "code",
   "execution_count": 7,
   "metadata": {},
   "outputs": [
    {
     "output_type": "execute_result",
     "data": {
      "text/plain": [
       "array([ 1,  2,  3,  4,  5,  6,  7,  8,  9, 10, 11, 12, 13, 14, 15, 16, 17,\n",
       "       18, 19, 20, 21, 22, 23, 24, 25, 26, 27, 28, 29, 30, 31, 32, 33, 34,\n",
       "       35, 36, 37, 38, 39, 40, 41, 42, 43, 44, 45, 46, 47, 48, 49, 50, 51,\n",
       "       52, 53, 54, 55, 56, 57, 58, 59, 60])"
      ]
     },
     "metadata": {},
     "execution_count": 7
    }
   ],
   "source": [
    "import numpy as np\n",
    "periods = np.arange(1,nper+1,dtype=int)\n",
    "periods"
   ]
  },
  {
   "cell_type": "code",
   "execution_count": 26,
   "metadata": {},
   "outputs": [
    {
     "output_type": "execute_result",
     "data": {
      "text/plain": [
       "array([2000., 2000., 2000., 2000., 2000., 2000., 2000., 2000., 2000.,\n",
       "       2000., 2000., 2000., 2000., 2000., 2000., 2000., 2000., 2000.,\n",
       "       2000., 2000., 2000., 2000., 2000., 2000., 2000., 2000., 2000.,\n",
       "       2000., 2000., 2000., 2000., 2000., 2000., 2000., 2000., 2000.,\n",
       "       2000., 2000., 2000., 2000., 2000., 2000., 2000., 2000., 2000.,\n",
       "       2000., 2000., 2000., 2000., 2000., 2000., 2000., 2000., 2000.,\n",
       "       2000., 2000., 2000., 2000., 2000., 2000.])"
      ]
     },
     "metadata": {},
     "execution_count": 26
    }
   ],
   "source": [
    "wplacane_co_miesiac = np.around(np.zeros(nper) + monthly, 2)\n",
    "wplacane_co_miesiac"
   ]
  },
  {
   "cell_type": "code",
   "execution_count": 9,
   "metadata": {},
   "outputs": [
    {
     "output_type": "execute_result",
     "data": {
      "text/plain": [
       "array([  2000.,   4000.,   6000.,   8000.,  10000.,  12000.,  14000.,\n",
       "        16000.,  18000.,  20000.,  22000.,  24000.,  26000.,  28000.,\n",
       "        30000.,  32000.,  34000.,  36000.,  38000.,  40000.,  42000.,\n",
       "        44000.,  46000.,  48000.,  50000.,  52000.,  54000.,  56000.,\n",
       "        58000.,  60000.,  62000.,  64000.,  66000.,  68000.,  70000.,\n",
       "        72000.,  74000.,  76000.,  78000.,  80000.,  82000.,  84000.,\n",
       "        86000.,  88000.,  90000.,  92000.,  94000.,  96000.,  98000.,\n",
       "       100000., 102000., 104000., 106000., 108000., 110000., 112000.,\n",
       "       114000., 116000., 118000., 120000.])"
      ]
     },
     "metadata": {},
     "execution_count": 9
    }
   ],
   "source": [
    "wplacony_kapital = np.zeros(nper) + np.cumsum(wplacane_co_miesiac)\n",
    "wplacony_kapital"
   ]
  },
  {
   "cell_type": "code",
   "execution_count": 27,
   "metadata": {},
   "outputs": [
    {
     "output_type": "execute_result",
     "data": {
      "text/plain": [
       "array([  20.,   40.,   60.,   80.,  100.,  120.,  140.,  160.,  180.,\n",
       "        200.,  220.,  240.,  260.,  280.,  300.,  320.,  340.,  360.,\n",
       "        380.,  400.,  420.,  440.,  460.,  480.,  500.,  520.,  540.,\n",
       "        560.,  580.,  600.,  620.,  640.,  660.,  680.,  700.,  720.,\n",
       "        740.,  760.,  780.,  800.,  820.,  840.,  860.,  880.,  900.,\n",
       "        920.,  940.,  960.,  980., 1000., 1020., 1040., 1060., 1080.,\n",
       "       1100., 1120., 1140., 1160., 1180., 1200.])"
      ]
     },
     "metadata": {},
     "execution_count": 27
    }
   ],
   "source": [
    "odsetki_od_kapitalu = np.zeros(nper) + wplacony_kapital*rate\n",
    "odsetki_od_kapitalu"
   ]
  },
  {
   "cell_type": "code",
   "execution_count": 28,
   "metadata": {},
   "outputs": [
    {
     "output_type": "execute_result",
     "data": {
      "text/plain": [
       "array([2.000e+01, 6.000e+01, 1.200e+02, 2.000e+02, 3.000e+02, 4.200e+02,\n",
       "       5.600e+02, 7.200e+02, 9.000e+02, 1.100e+03, 1.320e+03, 1.560e+03,\n",
       "       1.820e+03, 2.100e+03, 2.400e+03, 2.720e+03, 3.060e+03, 3.420e+03,\n",
       "       3.800e+03, 4.200e+03, 4.620e+03, 5.060e+03, 5.520e+03, 6.000e+03,\n",
       "       6.500e+03, 7.020e+03, 7.560e+03, 8.120e+03, 8.700e+03, 9.300e+03,\n",
       "       9.920e+03, 1.056e+04, 1.122e+04, 1.190e+04, 1.260e+04, 1.332e+04,\n",
       "       1.406e+04, 1.482e+04, 1.560e+04, 1.640e+04, 1.722e+04, 1.806e+04,\n",
       "       1.892e+04, 1.980e+04, 2.070e+04, 2.162e+04, 2.256e+04, 2.352e+04,\n",
       "       2.450e+04, 2.550e+04, 2.652e+04, 2.756e+04, 2.862e+04, 2.970e+04,\n",
       "       3.080e+04, 3.192e+04, 3.306e+04, 3.422e+04, 3.540e+04, 3.660e+04])"
      ]
     },
     "metadata": {},
     "execution_count": 28
    }
   ],
   "source": [
    "odsetki_od_kapitalu_kum = np.cumsum(odsetki_od_kapitalu)\n",
    "odsetki_od_kapitalu_kum"
   ]
  },
  {
   "cell_type": "code",
   "execution_count": 30,
   "metadata": {},
   "outputs": [
    {
     "output_type": "execute_result",
     "data": {
      "text/plain": [
       "array([2.000e-01, 6.000e-01, 1.200e+00, 2.000e+00, 3.000e+00, 4.200e+00,\n",
       "       5.600e+00, 7.200e+00, 9.000e+00, 1.100e+01, 1.320e+01, 1.560e+01,\n",
       "       1.820e+01, 2.100e+01, 2.400e+01, 2.720e+01, 3.060e+01, 3.420e+01,\n",
       "       3.800e+01, 4.200e+01, 4.620e+01, 5.060e+01, 5.520e+01, 6.000e+01,\n",
       "       6.500e+01, 7.020e+01, 7.560e+01, 8.120e+01, 8.700e+01, 9.300e+01,\n",
       "       9.920e+01, 1.056e+02, 1.122e+02, 1.190e+02, 1.260e+02, 1.332e+02,\n",
       "       1.406e+02, 1.482e+02, 1.560e+02, 1.640e+02, 1.722e+02, 1.806e+02,\n",
       "       1.892e+02, 1.980e+02, 2.070e+02, 2.162e+02, 2.256e+02, 2.352e+02,\n",
       "       2.450e+02, 2.550e+02, 2.652e+02, 2.756e+02, 2.862e+02, 2.970e+02,\n",
       "       3.080e+02, 3.192e+02, 3.306e+02, 3.422e+02, 3.540e+02, 3.660e+02])"
      ]
     },
     "metadata": {},
     "execution_count": 30
    }
   ],
   "source": [
    "odsetki_od_odsetek = odsetki_od_kapitalu_kum*rate\n",
    "odsetki_od_odsetek"
   ]
  },
  {
   "cell_type": "code",
   "execution_count": 31,
   "metadata": {},
   "outputs": [
    {
     "output_type": "execute_result",
     "data": {
      "text/plain": [
       "array([2.0000e-01, 8.0000e-01, 2.0000e+00, 4.0000e+00, 7.0000e+00,\n",
       "       1.1200e+01, 1.6800e+01, 2.4000e+01, 3.3000e+01, 4.4000e+01,\n",
       "       5.7200e+01, 7.2800e+01, 9.1000e+01, 1.1200e+02, 1.3600e+02,\n",
       "       1.6320e+02, 1.9380e+02, 2.2800e+02, 2.6600e+02, 3.0800e+02,\n",
       "       3.5420e+02, 4.0480e+02, 4.6000e+02, 5.2000e+02, 5.8500e+02,\n",
       "       6.5520e+02, 7.3080e+02, 8.1200e+02, 8.9900e+02, 9.9200e+02,\n",
       "       1.0912e+03, 1.1968e+03, 1.3090e+03, 1.4280e+03, 1.5540e+03,\n",
       "       1.6872e+03, 1.8278e+03, 1.9760e+03, 2.1320e+03, 2.2960e+03,\n",
       "       2.4682e+03, 2.6488e+03, 2.8380e+03, 3.0360e+03, 3.2430e+03,\n",
       "       3.4592e+03, 3.6848e+03, 3.9200e+03, 4.1650e+03, 4.4200e+03,\n",
       "       4.6852e+03, 4.9608e+03, 5.2470e+03, 5.5440e+03, 5.8520e+03,\n",
       "       6.1712e+03, 6.5018e+03, 6.8440e+03, 7.1980e+03, 7.5640e+03])"
      ]
     },
     "metadata": {},
     "execution_count": 31
    }
   ],
   "source": [
    "odsetki_od_odsetek_kum = np.cumsum(odsetki_od_odsetek)\n",
    "odsetki_od_odsetek_kum"
   ]
  },
  {
   "cell_type": "code",
   "execution_count": 32,
   "metadata": {},
   "outputs": [
    {
     "output_type": "execute_result",
     "data": {
      "text/plain": [
       "array([  2020.2,   4060.8,   6122. ,   8204. ,  10307. ,  12431.2,\n",
       "        14576.8,  16744. ,  18933. ,  21144. ,  23377.2,  25632.8,\n",
       "        27911. ,  30212. ,  32536. ,  34883.2,  37253.8,  39648. ,\n",
       "        42066. ,  44508. ,  46974.2,  49464.8,  51980. ,  54520. ,\n",
       "        57085. ,  59675.2,  62290.8,  64932. ,  67599. ,  70292. ,\n",
       "        73011.2,  75756.8,  78529. ,  81328. ,  84154. ,  87007.2,\n",
       "        89887.8,  92796. ,  95732. ,  98696. , 101688.2, 104708.8,\n",
       "       107758. , 110836. , 113943. , 117079.2, 120244.8, 123440. ,\n",
       "       126665. , 129920. , 133205.2, 136520.8, 139867. , 143244. ,\n",
       "       146652. , 150091.2, 153561.8, 157064. , 160598. , 164164. ])"
      ]
     },
     "metadata": {},
     "execution_count": 32
    }
   ],
   "source": [
    "oszczednosci = wplacony_kapital + odsetki_od_kapitalu_kum + odsetki_od_odsetek_kum\n",
    "oszczednosci"
   ]
  },
  {
   "cell_type": "code",
   "execution_count": null,
   "metadata": {},
   "outputs": [],
   "source": []
  },
  {
   "cell_type": "code",
   "execution_count": null,
   "metadata": {},
   "outputs": [],
   "source": []
  }
 ]
}