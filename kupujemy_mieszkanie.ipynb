{
 "cells": [
  {
   "cell_type": "markdown",
   "metadata": {},
   "source": [
    "### Zadanie: kupujemy mieszkanie\n",
    "Zamierzasz kupić mieszkanie. Upatrzone M kosztuje w tym momencie 120 tys. zł, jednak przewidujesz, że przez następne 5 lat ceny mieszkań będą rosły w tempie 5% rocznie. W tym momencie nie dysponujesz wystarczającymi środkami, dlatego znajdujesz ofertę banku, który proponuje lokatę, do której dopłacasz pewna stałą kwotę na koniec każdego miesiąca. Bank oferuje nominalną stopę procentową w wysokości 12% w skali roku, przy kapitalizacji miesięcznej.\n",
    "\n",
    "1. Ile będzie wynosiła orientacyjna cena mieszkania za 5 lat?\n",
    "2. Ile musisz wpłacać do banku każdego miesiąca, aby przy przedstawionej ofercie uzbierać na mieszkanie w ciągu 5 lat?\n",
    "3. Stwórz wykres przedstawiający, jak w interwałach miesięcznych zmieniać się będzie cena mieszkania (liniowy wzrost w całym okresie) oraz wartość twojej lokaty.\n",
    "\n",
    "Do wykonania powyższego zadania wykorzystaj biblioteki NumPy, NumPy-financial oraz Matplotlib. Odpowiedzi na pytania umieść w Notebooku (jeśli korzystasz) lub w komentarzach w kodzie."
   ]
  },
  {
   "cell_type": "code",
   "execution_count": 1,
   "metadata": {},
   "outputs": [
    {
     "output_type": "execute_result",
     "data": {
      "text/plain": [
       "153153.79"
      ]
     },
     "metadata": {},
     "execution_count": 1
    }
   ],
   "source": [
    "# Dane wstępne\n",
    "import numpy as np\n",
    "\n",
    "current_price = 120000\n",
    "years = 5\n",
    "price_rate = 0.05\n",
    "rate = 0.12\n",
    "freq = 12\n",
    "\n",
    "for i in range(years):\n",
    "    current_price = current_price*(1 + price_rate)\n",
    "\n",
    "np.round(current_price, 2)\n",
    "# Poniżej cena mieszkania za pięć lat przy założeniu 5-procentowego wzrostu cen mieszkań każdego roku\n",
    "# Czyli jest to odpowiedź na 1. pytanie zadania: \"Ile będzie wynosiła orientacyjna cena mieszkania za 5 lat?\""
   ]
  },
  {
   "cell_type": "code",
   "execution_count": 2,
   "metadata": {},
   "outputs": [
    {
     "output_type": "execute_result",
     "data": {
      "text/plain": [
       "0.01"
      ]
     },
     "metadata": {},
     "execution_count": 2
    }
   ],
   "source": [
    "# stopa oprocentowania lokaty w ujęciu miesięcznym\n",
    "rate = rate / freq\n",
    "rate"
   ]
  },
  {
   "cell_type": "code",
   "execution_count": 3,
   "metadata": {},
   "outputs": [
    {
     "output_type": "execute_result",
     "data": {
      "text/plain": [
       "array([ 1,  2,  3,  4,  5,  6,  7,  8,  9, 10, 11, 12, 13, 14, 15, 16, 17,\n",
       "       18, 19, 20, 21, 22, 23, 24, 25, 26, 27, 28, 29, 30, 31, 32, 33, 34,\n",
       "       35, 36, 37, 38, 39, 40, 41, 42, 43, 44, 45, 46, 47, 48, 49, 50, 51,\n",
       "       52, 53, 54, 55, 56, 57, 58, 59, 60])"
      ]
     },
     "metadata": {},
     "execution_count": 3
    }
   ],
   "source": [
    "nper = years * freq\n",
    "periods = np.arange(1,nper+1,dtype=int)\n",
    "periods"
   ]
  },
  {
   "cell_type": "code",
   "execution_count": 4,
   "metadata": {},
   "outputs": [
    {
     "output_type": "execute_result",
     "data": {
      "text/plain": [
       "60"
      ]
     },
     "metadata": {},
     "execution_count": 4
    }
   ],
   "source": [
    "nper\n",
    "# liczba miesięcznych okresów kapitalizacji odsetek"
   ]
  },
  {
   "cell_type": "code",
   "execution_count": 7,
   "metadata": {},
   "outputs": [
    {
     "output_type": "execute_result",
     "data": {
      "text/plain": [
       "array([1.01      , 1.0201    , 1.030301  , 1.04060401, 1.05101005,\n",
       "       1.06152015, 1.07213535, 1.08285671, 1.09368527, 1.10462213,\n",
       "       1.11566835, 1.12682503, 1.13809328, 1.14947421, 1.16096896,\n",
       "       1.17257864, 1.18430443, 1.19614748, 1.20810895, 1.22019004,\n",
       "       1.23239194, 1.24471586, 1.25716302, 1.26973465, 1.282432  ,\n",
       "       1.29525631, 1.30820888, 1.32129097, 1.33450388, 1.34784892,\n",
       "       1.3613274 , 1.37494068, 1.38869009, 1.40257699, 1.41660276,\n",
       "       1.43076878, 1.44507647, 1.45952724, 1.47412251, 1.48886373,\n",
       "       1.50375237, 1.51878989, 1.53397779, 1.54931757, 1.56481075,\n",
       "       1.58045885, 1.59626344, 1.61222608, 1.62834834, 1.64463182,\n",
       "       1.66107814, 1.67768892, 1.69446581, 1.71141047, 1.72852457,\n",
       "       1.74580982, 1.76326792, 1.7809006 , 1.7987096 , 1.8166967 ])"
      ]
     },
     "metadata": {},
     "execution_count": 7
    }
   ],
   "source": [
    "# Poniżej obliczenia dotyczące 2. punktu zadania:\n",
    "# Ile musisz wpłacać do banku każdego miesiąca, aby przy przedstawionej ofercie uzbierać na mieszkanie w ciągu 5 lat?\n",
    "\n",
    "# Poniżej liczymy mnożnik dla każdej wpłaconej raty, czyli dowiemy się stąd, o ile więcej pieniędzy przyniesie nam każda wpłata do banku, przy każdomiesięcznej kapitalizacji odsetek. Na pierwszej pozycji mamy ostatnią wpłaconą ratę, czyli wpłaconą w 59-tym miesiącu - ona zdąży nam wypracować tylko 1.01, czyli tylko 1% zysku. Na ostatniej pozycji mamy pierwszą wpłaconą ratę, czyli tą która rozpoczęłą całe oszczędzanie na mieszkanie. Ona wypracuje zysk przez 60 miesięcy, czyli (1.01) do potęgi 60, co daje prawie, 1.82, czyli wypracuje nam 82% zysku.\n",
    "\n",
    "\"\"\"\n",
    "W obliczeniach skorzystano ze wzoru na obliczenie wartości przyszłej:\n",
    "FV = PV(1 + i)t\n",
    "FV - wartość przyszła\n",
    "PV - wartość obecna\n",
    "i - oprocentowanie w okresie kapitalizacji\n",
    "t - czas wyrażony w okresach kapitalizacji\n",
    "(1 + i) jest podnoszone do potęgi t\n",
    "\"\"\"\n",
    "multiplier = np.zeros(nper) + (1 + rate)**periods\n",
    "multiplier"
   ]
  },
  {
   "cell_type": "code",
   "execution_count": 8,
   "metadata": {},
   "outputs": [
    {
     "output_type": "execute_result",
     "data": {
      "text/plain": [
       "array([ 1.01      ,  2.0301    ,  3.060401  ,  4.10100501,  5.15201506,\n",
       "        6.21353521,  7.28567056,  8.36852727,  9.46221254, 10.56683467,\n",
       "       11.68250301, 12.80932804, 13.94742132, 15.09689554, 16.25786449,\n",
       "       17.43044314, 18.61474757, 19.81089504, 21.01900399, 22.23919403,\n",
       "       23.47158598, 24.71630183, 25.97346485, 27.2431995 , 28.5256315 ,\n",
       "       29.82088781, 31.12909669, 32.45038766, 33.78489153, 35.13274045,\n",
       "       36.49406785, 37.86900853, 39.25769862, 40.6602756 , 42.07687836,\n",
       "       43.50764714, 44.95272361, 46.41225085, 47.88637336, 49.37523709,\n",
       "       50.87898946, 52.39777936, 53.93175715, 55.48107472, 57.04588547,\n",
       "       58.62634432, 60.22260777, 61.83483385, 63.46318218, 65.10781401,\n",
       "       66.76889215, 68.44658107, 70.14104688, 71.85245735, 73.58098192,\n",
       "       75.32679174, 77.09005966, 78.87096025, 80.66966986, 82.48636655])"
      ]
     },
     "metadata": {},
     "execution_count": 8
    }
   ],
   "source": [
    "# Jeśli obliczymy teraz skumulowane wartości to na ostatniej pozycji wektora otrzymamy wartość mnożnika dla wszystkich wpłaconych 60 rat przez okres 5 lat.\n",
    "\n",
    "multiplier_cumulative = np.cumsum(multiplier)\n",
    "multiplier_cumulative"
   ]
  },
  {
   "cell_type": "code",
   "execution_count": 10,
   "metadata": {},
   "outputs": [
    {
     "output_type": "execute_result",
     "data": {
      "text/plain": [
       "1856.72"
      ]
     },
     "metadata": {},
     "execution_count": 10
    }
   ],
   "source": [
    "# Teraz aby dowiedzieć się, ile wynosi rata wpłacana każdego miesiąca na konto oszczędnościowe, aby uzbierać na wymarzone mieszkanie, wystarczy przyszłą wartość mieszkania (za 5 lat) podzielić przez ostatnią wartość z wektora obliczonych skumulowanych mnożników.\n",
    "\n",
    "payment = np.around(current_price / multiplier_cumulative[-1], 2)\n",
    "payment"
   ]
  },
  {
   "cell_type": "code",
   "execution_count": null,
   "metadata": {},
   "outputs": [],
   "source": []
  }
 ],
 "metadata": {
  "kernelspec": {
   "display_name": "Python 3",
   "language": "python",
   "name": "python3"
  },
  "language_info": {
   "codemirror_mode": {
    "name": "ipython",
    "version": 3
   },
   "file_extension": ".py",
   "mimetype": "text/x-python",
   "name": "python",
   "nbconvert_exporter": "python",
   "pygments_lexer": "ipython3",
   "version": "3.8.3-final"
  }
 },
 "nbformat": 4,
 "nbformat_minor": 4
}